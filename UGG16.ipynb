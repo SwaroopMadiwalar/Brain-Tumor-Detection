{
 "cells": [
  {
   "cell_type": "raw",
   "metadata": {
    "colab": {
     "base_uri": "https://localhost:8080/"
    },
    "id": "dq4cgmbec4ER",
    "outputId": "a0a7f1d8-92fb-42b1-b2dd-54101db65545"
   },
   "source": [
    "\n",
    "\n",
    "import numpy as np # linear algebra\n",
    "import pandas as pd # data processing, CSV file I/O (e.g. pd.read_csv)\n",
    "import os\n",
    "for dirname, _, filenames in os.walk('/content/drive/MyDrive/DATA SET FOR MP/brain_tumor_dataset'):\n",
    "    for filename in filenames:\n",
    "        print(os.path.join(dirname, filename))\n",
    "\n",
    "len(dirname)"
   ]
  },
  {
   "cell_type": "code",
   "execution_count": 20,
   "metadata": {
    "id": "rQyCgAHYdRFy"
   },
   "outputs": [],
   "source": [
    "import os\n",
    "import numpy as np\n",
    "import pandas as pd\n",
    "import tqdm as tqdm\n",
    "import cv2 as cv\n",
    "import keras\n",
    "from keras.models import Sequential\n",
    "from keras.layers import Conv2D , MaxPooling2D ,GlobalAveragePooling2D ,Flatten , Dense , Dropout , BatchNormalization \n",
    "from PIL import Image\n",
    "import matplotlib.pyplot as plt\n",
    "from sklearn.model_selection import train_test_split\n",
    "from sklearn.preprocessing import OneHotEncoder\n",
    "import tensorflow as tf\n",
    "tf.keras.applications.VGG16\n",
    "from keras.applications.vgg16 import VGG16\n",
    "from keras.layers import Dense, Dropout, Activation, Flatten, GlobalAveragePooling2D\n",
    "from keras.layers import Conv2D, MaxPooling2D, ZeroPadding2D\n",
    "from keras.models import Model"
   ]
  },
  {
   "cell_type": "code",
   "execution_count": 21,
   "metadata": {
    "colab": {
     "base_uri": "https://localhost:8080/"
    },
    "id": "ZMM48eS3dXnF",
    "outputId": "2f40dd8f-4ccc-4445-b4cc-b6ebcc0a22ed"
   },
   "outputs": [
    {
     "data": {
      "text/plain": [
       "OneHotEncoder()"
      ]
     },
     "execution_count": 21,
     "metadata": {},
     "output_type": "execute_result"
    }
   ],
   "source": [
    "encoder = OneHotEncoder()     #LabelEncoder encode labels with value between 0 and n_classes-1\n",
    "encoder.fit([[0],[1]])   "
   ]
  },
  {
   "cell_type": "code",
   "execution_count": 22,
   "metadata": {
    "id": "LPleKpxXdb2P"
   },
   "outputs": [],
   "source": [
    "input_path = []\n",
    "label = []"
   ]
  },
  {
   "cell_type": "code",
   "execution_count": 23,
   "metadata": {
    "id": "X_4KgfnTdhAQ"
   },
   "outputs": [],
   "source": [
    "data = []\n",
    "paths = []\n",
    "result = []\n",
    "for r,d,f in os.walk(r\"/content/drive/MyDrive/DATA SET FOR MP/yes\"):\n",
    "    for file in f:\n",
    "        if '.jpg' in file:\n",
    "            paths.append(os.path.join(r,file))\n",
    "for path in paths:\n",
    "    img = Image.open(path)\n",
    "    img = img.resize((224,224))\n",
    "    img = np.array(img)\n",
    "    if(img.shape == (224,224,3)):\n",
    "        data.append(img)\n",
    "        label.append(0)\n",
    "        input_path.append(os.path.join(\"Tumor\",\"Tumor\",path))\n",
    "        result.append(encoder.transform([[0]]).toarray())"
   ]
  },
  {
   "cell_type": "code",
   "execution_count": 24,
   "metadata": {
    "id": "Ln-oaW8BdmQD"
   },
   "outputs": [],
   "source": [
    "paths = []\n",
    "for r,d,f in os.walk(r\"/content/drive/MyDrive/DATA SET FOR MP/no\"):\n",
    "    for file in f:\n",
    "        if '.jpg' in file:\n",
    "            paths.append(os.path.join(r,file))\n",
    "for path in paths:\n",
    "    img = Image.open(path)\n",
    "    img = img.resize((224,224))\n",
    "    img = np.array(img)\n",
    "    if(img.shape == (224,224,3)):\n",
    "        data.append(img)\n",
    "        label.append(1)\n",
    "        input_path.append(os.path.join(\"No Tumor\",\"No Tumor\",path))\n",
    "        result.append(encoder.transform([[1]]).toarray())"
   ]
  },
  {
   "cell_type": "code",
   "execution_count": 25,
   "metadata": {
    "colab": {
     "base_uri": "https://localhost:8080/"
    },
    "id": "TlGTOnpkdpuH",
    "outputId": "080ec092-dc94-46ba-e4c1-c86278a2fbc6"
   },
   "outputs": [
    {
     "data": {
      "text/plain": [
       "139"
      ]
     },
     "execution_count": 25,
     "metadata": {},
     "output_type": "execute_result"
    }
   ],
   "source": [
    "len(input_path)"
   ]
  },
  {
   "cell_type": "code",
   "execution_count": 26,
   "metadata": {
    "colab": {
     "base_uri": "https://localhost:8080/",
     "height": 206
    },
    "id": "k2J66Kt0dwoS",
    "outputId": "aff7f626-eb4f-4c70-8677-1ff2596a2289"
   },
   "outputs": [
    {
     "data": {
      "text/html": [
       "\n",
       "  <div id=\"df-e44da1a6-9e08-4a91-8309-73dbe135ff24\">\n",
       "    <div class=\"colab-df-container\">\n",
       "      <div>\n",
       "<style scoped>\n",
       "    .dataframe tbody tr th:only-of-type {\n",
       "        vertical-align: middle;\n",
       "    }\n",
       "\n",
       "    .dataframe tbody tr th {\n",
       "        vertical-align: top;\n",
       "    }\n",
       "\n",
       "    .dataframe thead th {\n",
       "        text-align: right;\n",
       "    }\n",
       "</style>\n",
       "<table border=\"1\" class=\"dataframe\">\n",
       "  <thead>\n",
       "    <tr style=\"text-align: right;\">\n",
       "      <th></th>\n",
       "      <th>images</th>\n",
       "      <th>label</th>\n",
       "    </tr>\n",
       "  </thead>\n",
       "  <tbody>\n",
       "    <tr>\n",
       "      <th>0</th>\n",
       "      <td>/content/drive/MyDrive/DATA SET FOR MP/yes/Y34...</td>\n",
       "      <td>0</td>\n",
       "    </tr>\n",
       "    <tr>\n",
       "      <th>1</th>\n",
       "      <td>/content/drive/MyDrive/DATA SET FOR MP/yes/Y21...</td>\n",
       "      <td>0</td>\n",
       "    </tr>\n",
       "    <tr>\n",
       "      <th>2</th>\n",
       "      <td>/content/drive/MyDrive/DATA SET FOR MP/yes/Y69...</td>\n",
       "      <td>0</td>\n",
       "    </tr>\n",
       "    <tr>\n",
       "      <th>3</th>\n",
       "      <td>/content/drive/MyDrive/DATA SET FOR MP/no/No20...</td>\n",
       "      <td>1</td>\n",
       "    </tr>\n",
       "    <tr>\n",
       "      <th>4</th>\n",
       "      <td>/content/drive/MyDrive/DATA SET FOR MP/no/29 n...</td>\n",
       "      <td>1</td>\n",
       "    </tr>\n",
       "  </tbody>\n",
       "</table>\n",
       "</div>\n",
       "      <button class=\"colab-df-convert\" onclick=\"convertToInteractive('df-e44da1a6-9e08-4a91-8309-73dbe135ff24')\"\n",
       "              title=\"Convert this dataframe to an interactive table.\"\n",
       "              style=\"display:none;\">\n",
       "        \n",
       "  <svg xmlns=\"http://www.w3.org/2000/svg\" height=\"24px\"viewBox=\"0 0 24 24\"\n",
       "       width=\"24px\">\n",
       "    <path d=\"M0 0h24v24H0V0z\" fill=\"none\"/>\n",
       "    <path d=\"M18.56 5.44l.94 2.06.94-2.06 2.06-.94-2.06-.94-.94-2.06-.94 2.06-2.06.94zm-11 1L8.5 8.5l.94-2.06 2.06-.94-2.06-.94L8.5 2.5l-.94 2.06-2.06.94zm10 10l.94 2.06.94-2.06 2.06-.94-2.06-.94-.94-2.06-.94 2.06-2.06.94z\"/><path d=\"M17.41 7.96l-1.37-1.37c-.4-.4-.92-.59-1.43-.59-.52 0-1.04.2-1.43.59L10.3 9.45l-7.72 7.72c-.78.78-.78 2.05 0 2.83L4 21.41c.39.39.9.59 1.41.59.51 0 1.02-.2 1.41-.59l7.78-7.78 2.81-2.81c.8-.78.8-2.07 0-2.86zM5.41 20L4 18.59l7.72-7.72 1.47 1.35L5.41 20z\"/>\n",
       "  </svg>\n",
       "      </button>\n",
       "      \n",
       "  <style>\n",
       "    .colab-df-container {\n",
       "      display:flex;\n",
       "      flex-wrap:wrap;\n",
       "      gap: 12px;\n",
       "    }\n",
       "\n",
       "    .colab-df-convert {\n",
       "      background-color: #E8F0FE;\n",
       "      border: none;\n",
       "      border-radius: 50%;\n",
       "      cursor: pointer;\n",
       "      display: none;\n",
       "      fill: #1967D2;\n",
       "      height: 32px;\n",
       "      padding: 0 0 0 0;\n",
       "      width: 32px;\n",
       "    }\n",
       "\n",
       "    .colab-df-convert:hover {\n",
       "      background-color: #E2EBFA;\n",
       "      box-shadow: 0px 1px 2px rgba(60, 64, 67, 0.3), 0px 1px 3px 1px rgba(60, 64, 67, 0.15);\n",
       "      fill: #174EA6;\n",
       "    }\n",
       "\n",
       "    [theme=dark] .colab-df-convert {\n",
       "      background-color: #3B4455;\n",
       "      fill: #D2E3FC;\n",
       "    }\n",
       "\n",
       "    [theme=dark] .colab-df-convert:hover {\n",
       "      background-color: #434B5C;\n",
       "      box-shadow: 0px 1px 3px 1px rgba(0, 0, 0, 0.15);\n",
       "      filter: drop-shadow(0px 1px 2px rgba(0, 0, 0, 0.3));\n",
       "      fill: #FFFFFF;\n",
       "    }\n",
       "  </style>\n",
       "\n",
       "      <script>\n",
       "        const buttonEl =\n",
       "          document.querySelector('#df-e44da1a6-9e08-4a91-8309-73dbe135ff24 button.colab-df-convert');\n",
       "        buttonEl.style.display =\n",
       "          google.colab.kernel.accessAllowed ? 'block' : 'none';\n",
       "\n",
       "        async function convertToInteractive(key) {\n",
       "          const element = document.querySelector('#df-e44da1a6-9e08-4a91-8309-73dbe135ff24');\n",
       "          const dataTable =\n",
       "            await google.colab.kernel.invokeFunction('convertToInteractive',\n",
       "                                                     [key], {});\n",
       "          if (!dataTable) return;\n",
       "\n",
       "          const docLinkHtml = 'Like what you see? Visit the ' +\n",
       "            '<a target=\"_blank\" href=https://colab.research.google.com/notebooks/data_table.ipynb>data table notebook</a>'\n",
       "            + ' to learn more about interactive tables.';\n",
       "          element.innerHTML = '';\n",
       "          dataTable['output_type'] = 'display_data';\n",
       "          await google.colab.output.renderOutput(dataTable, element);\n",
       "          const docLink = document.createElement('div');\n",
       "          docLink.innerHTML = docLinkHtml;\n",
       "          element.appendChild(docLink);\n",
       "        }\n",
       "      </script>\n",
       "    </div>\n",
       "  </div>\n",
       "  "
      ],
      "text/plain": [
       "                                              images  label\n",
       "0  /content/drive/MyDrive/DATA SET FOR MP/yes/Y34...      0\n",
       "1  /content/drive/MyDrive/DATA SET FOR MP/yes/Y21...      0\n",
       "2  /content/drive/MyDrive/DATA SET FOR MP/yes/Y69...      0\n",
       "3  /content/drive/MyDrive/DATA SET FOR MP/no/No20...      1\n",
       "4  /content/drive/MyDrive/DATA SET FOR MP/no/29 n...      1"
      ]
     },
     "execution_count": 26,
     "metadata": {},
     "output_type": "execute_result"
    }
   ],
   "source": [
    "df = pd.DataFrame()\n",
    "df['images'] = input_path\n",
    "df['label'] = label\n",
    "df=df.sample(frac=1).reset_index(drop=True)\n",
    "df.head()"
   ]
  },
  {
   "cell_type": "code",
   "execution_count": 27,
   "metadata": {
    "colab": {
     "base_uri": "https://localhost:8080/"
    },
    "id": "YXyX17zyd1iU",
    "outputId": "c8f267b9-b336-4a77-d2d1-58f1a291d0f5"
   },
   "outputs": [
    {
     "data": {
      "text/plain": [
       "array([0, 1])"
      ]
     },
     "execution_count": 27,
     "metadata": {},
     "output_type": "execute_result"
    }
   ],
   "source": [
    "pd.unique(df['label'])\n",
    "\n",
    "\n"
   ]
  },
  {
   "cell_type": "code",
   "execution_count": 28,
   "metadata": {
    "colab": {
     "base_uri": "https://localhost:8080/",
     "height": 351
    },
    "id": "JK57SDVHd81m",
    "outputId": "1e4014a4-a011-401c-d4ef-542e7bc5e527"
   },
   "outputs": [
    {
     "name": "stderr",
     "output_type": "stream",
     "text": [
      "/usr/local/lib/python3.7/dist-packages/seaborn/_decorators.py:43: FutureWarning: Pass the following variable as a keyword arg: x. From version 0.12, the only valid positional argument will be `data`, and passing other arguments without an explicit keyword will result in an error or misinterpretation.\n",
      "  FutureWarning\n"
     ]
    },
    {
     "data": {
      "text/plain": [
       "<matplotlib.axes._subplots.AxesSubplot at 0x7fbbbb1bef10>"
      ]
     },
     "execution_count": 28,
     "metadata": {},
     "output_type": "execute_result"
    },
    {
     "data": {
      "image/png": "[encoded data removed]",
      "text/plain": [
       "<Figure size 432x288 with 1 Axes>"
      ]
     },
     "metadata": {
      "needs_background": "light"
     },
     "output_type": "display_data"
    }
   ],
   "source": [
    "import seaborn as sns\n",
    "sns.countplot(df['label'])"
   ]
  },
  {
   "cell_type": "code",
   "execution_count": 29,
   "metadata": {
    "colab": {
     "base_uri": "https://localhost:8080/"
    },
    "id": "NOWfVqayeBu6",
    "outputId": "c3472d78-38df-489c-d40e-ffe77668a7a9"
   },
   "outputs": [
    {
     "name": "stdout",
     "output_type": "stream",
     "text": [
      "[[[1. 0.]]\n",
      "\n",
      " [[1. 0.]]\n",
      "\n",
      " [[1. 0.]]\n",
      "\n",
      " [[1. 0.]]\n",
      "\n",
      " [[1. 0.]]\n",
      "\n",
      " [[1. 0.]]\n",
      "\n",
      " [[1. 0.]]\n",
      "\n",
      " [[1. 0.]]\n",
      "\n",
      " [[1. 0.]]\n",
      "\n",
      " [[1. 0.]]\n",
      "\n",
      " [[1. 0.]]\n",
      "\n",
      " [[1. 0.]]\n",
      "\n",
      " [[1. 0.]]\n",
      "\n",
      " [[1. 0.]]\n",
      "\n",
      " [[1. 0.]]\n",
      "\n",
      " [[1. 0.]]\n",
      "\n",
      " [[1. 0.]]\n",
      "\n",
      " [[1. 0.]]\n",
      "\n",
      " [[1. 0.]]\n",
      "\n",
      " [[1. 0.]]\n",
      "\n",
      " [[1. 0.]]\n",
      "\n",
      " [[1. 0.]]\n",
      "\n",
      " [[1. 0.]]\n",
      "\n",
      " [[1. 0.]]\n",
      "\n",
      " [[1. 0.]]\n",
      "\n",
      " [[1. 0.]]\n",
      "\n",
      " [[1. 0.]]\n",
      "\n",
      " [[1. 0.]]\n",
      "\n",
      " [[1. 0.]]\n",
      "\n",
      " [[1. 0.]]\n",
      "\n",
      " [[1. 0.]]\n",
      "\n",
      " [[1. 0.]]\n",
      "\n",
      " [[1. 0.]]\n",
      "\n",
      " [[1. 0.]]\n",
      "\n",
      " [[1. 0.]]\n",
      "\n",
      " [[1. 0.]]\n",
      "\n",
      " [[1. 0.]]\n",
      "\n",
      " [[1. 0.]]\n",
      "\n",
      " [[1. 0.]]\n",
      "\n",
      " [[1. 0.]]\n",
      "\n",
      " [[1. 0.]]\n",
      "\n",
      " [[1. 0.]]\n",
      "\n",
      " [[1. 0.]]\n",
      "\n",
      " [[1. 0.]]\n",
      "\n",
      " [[1. 0.]]\n",
      "\n",
      " [[1. 0.]]\n",
      "\n",
      " [[1. 0.]]\n",
      "\n",
      " [[1. 0.]]\n",
      "\n",
      " [[1. 0.]]\n",
      "\n",
      " [[1. 0.]]\n",
      "\n",
      " [[1. 0.]]\n",
      "\n",
      " [[1. 0.]]\n",
      "\n",
      " [[1. 0.]]\n",
      "\n",
      " [[1. 0.]]\n",
      "\n",
      " [[1. 0.]]\n",
      "\n",
      " [[1. 0.]]\n",
      "\n",
      " [[1. 0.]]\n",
      "\n",
      " [[1. 0.]]\n",
      "\n",
      " [[1. 0.]]\n",
      "\n",
      " [[1. 0.]]\n",
      "\n",
      " [[1. 0.]]\n",
      "\n",
      " [[1. 0.]]\n",
      "\n",
      " [[1. 0.]]\n",
      "\n",
      " [[1. 0.]]\n",
      "\n",
      " [[1. 0.]]\n",
      "\n",
      " [[1. 0.]]\n",
      "\n",
      " [[1. 0.]]\n",
      "\n",
      " [[1. 0.]]\n",
      "\n",
      " [[1. 0.]]\n",
      "\n",
      " [[1. 0.]]\n",
      "\n",
      " [[0. 1.]]\n",
      "\n",
      " [[0. 1.]]\n",
      "\n",
      " [[0. 1.]]\n",
      "\n",
      " [[0. 1.]]\n",
      "\n",
      " [[0. 1.]]\n",
      "\n",
      " [[0. 1.]]\n",
      "\n",
      " [[0. 1.]]\n",
      "\n",
      " [[0. 1.]]\n",
      "\n",
      " [[0. 1.]]\n",
      "\n",
      " [[0. 1.]]\n",
      "\n",
      " [[0. 1.]]\n",
      "\n",
      " [[0. 1.]]\n",
      "\n",
      " [[0. 1.]]\n",
      "\n",
      " [[0. 1.]]\n",
      "\n",
      " [[0. 1.]]\n",
      "\n",
      " [[0. 1.]]\n",
      "\n",
      " [[0. 1.]]\n",
      "\n",
      " [[0. 1.]]\n",
      "\n",
      " [[0. 1.]]\n",
      "\n",
      " [[0. 1.]]\n",
      "\n",
      " [[0. 1.]]\n",
      "\n",
      " [[0. 1.]]\n",
      "\n",
      " [[0. 1.]]\n",
      "\n",
      " [[0. 1.]]\n",
      "\n",
      " [[0. 1.]]\n",
      "\n",
      " [[0. 1.]]\n",
      "\n",
      " [[0. 1.]]\n",
      "\n",
      " [[0. 1.]]\n",
      "\n",
      " [[0. 1.]]\n",
      "\n",
      " [[0. 1.]]\n",
      "\n",
      " [[0. 1.]]\n",
      "\n",
      " [[0. 1.]]\n",
      "\n",
      " [[0. 1.]]\n",
      "\n",
      " [[0. 1.]]\n",
      "\n",
      " [[0. 1.]]\n",
      "\n",
      " [[0. 1.]]\n",
      "\n",
      " [[0. 1.]]\n",
      "\n",
      " [[0. 1.]]\n",
      "\n",
      " [[0. 1.]]\n",
      "\n",
      " [[0. 1.]]\n",
      "\n",
      " [[0. 1.]]\n",
      "\n",
      " [[0. 1.]]\n",
      "\n",
      " [[0. 1.]]\n",
      "\n",
      " [[0. 1.]]\n",
      "\n",
      " [[0. 1.]]\n",
      "\n",
      " [[0. 1.]]\n",
      "\n",
      " [[0. 1.]]\n",
      "\n",
      " [[0. 1.]]\n",
      "\n",
      " [[0. 1.]]\n",
      "\n",
      " [[0. 1.]]\n",
      "\n",
      " [[0. 1.]]\n",
      "\n",
      " [[0. 1.]]\n",
      "\n",
      " [[0. 1.]]\n",
      "\n",
      " [[0. 1.]]\n",
      "\n",
      " [[0. 1.]]\n",
      "\n",
      " [[0. 1.]]\n",
      "\n",
      " [[0. 1.]]\n",
      "\n",
      " [[0. 1.]]\n",
      "\n",
      " [[0. 1.]]\n",
      "\n",
      " [[0. 1.]]\n",
      "\n",
      " [[0. 1.]]\n",
      "\n",
      " [[0. 1.]]\n",
      "\n",
      " [[0. 1.]]\n",
      "\n",
      " [[0. 1.]]\n",
      "\n",
      " [[0. 1.]]\n",
      "\n",
      " [[0. 1.]]\n",
      "\n",
      " [[0. 1.]]\n",
      "\n",
      " [[0. 1.]]\n",
      "\n",
      " [[0. 1.]]]\n"
     ]
    }
   ],
   "source": [
    "print(np.array(result))"
   ]
  },
  {
   "cell_type": "code",
   "execution_count": 30,
   "metadata": {
    "id": "5aZvPAw8e_rS"
   },
   "outputs": [],
   "source": [
    "result = np.array(result)\n",
    "result = result.reshape(139,2)"
   ]
  },
  {
   "cell_type": "code",
   "execution_count": 31,
   "metadata": {
    "colab": {
     "base_uri": "https://localhost:8080/"
    },
    "id": "kctbM5djfHIN",
    "outputId": "e23f7d71-b6ff-46f8-f692-ace81a2f336c"
   },
   "outputs": [
    {
     "data": {
      "text/plain": [
       "(139, 2)"
      ]
     },
     "execution_count": 31,
     "metadata": {},
     "output_type": "execute_result"
    }
   ],
   "source": [
    "result.shape"
   ]
  },
  {
   "cell_type": "code",
   "execution_count": 32,
   "metadata": {
    "colab": {
     "base_uri": "https://localhost:8080/"
    },
    "id": "CXFAqpRRfKDm",
    "outputId": "d21c3d9f-ed9e-49f8-fe37-758596922421"
   },
   "outputs": [
    {
     "data": {
      "text/plain": [
       "(139, 224, 224, 3)"
      ]
     },
     "execution_count": 32,
     "metadata": {},
     "output_type": "execute_result"
    }
   ],
   "source": [
    "data = np.array(data)\n",
    "#data = data.reshape(139, 128, 128, 3)\n",
    "data.shape"
   ]
  },
  {
   "cell_type": "code",
   "execution_count": 33,
   "metadata": {
    "colab": {
     "base_uri": "https://localhost:8080/",
     "height": 152
    },
    "id": "DN2kv39zfNI5",
    "outputId": "ed9d9375-76f7-42b1-911b-e9c9ad607669"
   },
   "outputs": [
    {
     "data": {
      "image/png": "[encoded data removed]",
      "text/plain": [
       "<Figure size 720x720 with 4 Axes>"
      ]
     },
     "metadata": {
      "needs_background": "light"
     },
     "output_type": "display_data"
    }
   ],
   "source": [
    "%matplotlib inline\n",
    "plt.figure(figsize=(10, 10))\n",
    "for i in range(4):\n",
    "    plt.subplot(1, 4, i+1)\n",
    "    plt.imshow(data[i], cmap=\"gray\")\n",
    "    plt.axis('off')\n",
    "plt.show()"
   ]
  },
  {
   "cell_type": "code",
   "execution_count": 34,
   "metadata": {
    "id": "Y2V1VYAUfWvY"
   },
   "outputs": [],
   "source": [
    "x_train , x_test , y_train , y_test = train_test_split(data , result , test_size = 0.25 , shuffle = True , random_state = 1)"
   ]
  },
  {
   "cell_type": "code",
   "execution_count": 35,
   "metadata": {
    "colab": {
     "base_uri": "https://localhost:8080/"
    },
    "id": "Klq_uYR8faUi",
    "outputId": "292f0de5-3dba-4c3c-d825-ed574a481aa0"
   },
   "outputs": [
    {
     "name": "stdout",
     "output_type": "stream",
     "text": [
      "Shape of an image in x_train :  (224, 224, 3)\n",
      "Shape of an image in x_test :  (224, 224, 3)\n"
     ]
    }
   ],
   "source": [
    "print(\"Shape of an image in x_train : \",x_train[0].shape)\n",
    "print(\"Shape of an image in x_test : \",x_test[0].shape)"
   ]
  },
  {
   "cell_type": "code",
   "execution_count": 36,
   "metadata": {
    "id": "L1iBN11mfef6"
   },
   "outputs": [],
   "source": [
    "x_train = np.array(x_train)\n",
    "x_test = np.array(x_test)\n",
    "y_train = np.array(y_train)\n",
    "y_test = np.array(y_test)"
   ]
  },
  {
   "cell_type": "code",
   "execution_count": 37,
   "metadata": {
    "colab": {
     "base_uri": "https://localhost:8080/"
    },
    "id": "l8VZGp5WfiyA",
    "outputId": "b2254a79-281d-4737-d7ed-678f5fdd0840"
   },
   "outputs": [
    {
     "name": "stdout",
     "output_type": "stream",
     "text": [
      "x_train Shape :  (104, 224, 224, 3)\n",
      "x_test Shape :  (35, 224, 224, 3)\n",
      "y_train Shape:  (104, 2)\n",
      "y_test Shape:  (35, 2)\n"
     ]
    }
   ],
   "source": [
    "print(\"x_train Shape : \", x_train.shape) \n",
    "print(\"x_test Shape : \", x_test.shape)\n",
    "print(\"y_train Shape: \", y_train.shape) \n",
    "print(\"y_test Shape: \", y_test.shape)"
   ]
  },
  {
   "cell_type": "code",
   "execution_count": 38,
   "metadata": {
    "colab": {
     "base_uri": "https://localhost:8080/"
    },
    "id": "HnwSS05gfmxy",
    "outputId": "eee09a7f-3977-4eb2-ea2a-23934ebec240"
   },
   "outputs": [
    {
     "name": "stdout",
     "output_type": "stream",
     "text": [
      "Downloading data from https://storage.googleapis.com/tensorflow/keras-applications/vgg16/vgg16_weights_tf_dim_ordering_tf_kernels_notop.h5\n",
      "58892288/58889256 [==============================] - 0s 0us/step\n",
      "58900480/58889256 [==============================] - 0s 0us/step\n"
     ]
    }
   ],
   "source": [
    "modelVGG = VGG16(include_top = False,weights = 'imagenet',classifier_activation = 'softmax',input_shape = (224, 224, 3))"
   ]
  },
  {
   "cell_type": "code",
   "execution_count": 39,
   "metadata": {
    "id": "WejSo7Xkfpw3"
   },
   "outputs": [],
   "source": [
    "for layer in modelVGG.layers:\n",
    "    layer.trainable = False"
   ]
  },
  {
   "cell_type": "code",
   "execution_count": 40,
   "metadata": {
    "colab": {
     "base_uri": "https://localhost:8080/"
    },
    "id": "DKuR3TndftG5",
    "outputId": "e87919ca-4e63-47bc-ac5e-2162298a2f5f"
   },
   "outputs": [
    {
     "name": "stdout",
     "output_type": "stream",
     "text": [
      "0 InputLayer False\n",
      "1 Conv2D False\n",
      "2 Conv2D False\n",
      "3 MaxPooling2D False\n",
      "4 Conv2D False\n",
      "5 Conv2D False\n",
      "6 MaxPooling2D False\n",
      "7 Conv2D False\n",
      "8 Conv2D False\n",
      "9 Conv2D False\n",
      "10 MaxPooling2D False\n",
      "11 Conv2D False\n",
      "12 Conv2D False\n",
      "13 Conv2D False\n",
      "14 MaxPooling2D False\n",
      "15 Conv2D False\n",
      "16 Conv2D False\n",
      "17 Conv2D False\n",
      "18 MaxPooling2D False\n"
     ]
    }
   ],
   "source": [
    "num_classes = 2\n",
    "for (i,layer) in enumerate(modelVGG.layers):\n",
    "    print(str(i) + \" \"+ layer.__class__.__name__, layer.trainable)\n",
    "    def lw(bottom_model,num_classes):\n",
    "        top_model = bottom_model.output\n",
    "        top_model = GlobalAveragePooling2D()(top_model)\n",
    "        top_model = Dense(1024,activation='relu')(top_model)\n",
    "        top_model = Dense(1024,activation='relu')(top_model)\n",
    "        top_model = Dense(512,activation='relu')(top_model)\n",
    "        top_model = Dense(2,activation='softmax')(top_model)\n",
    "        return top_model"
   ]
  },
  {
   "cell_type": "code",
   "execution_count": 41,
   "metadata": {
    "id": "quN6mSk5fwy2"
   },
   "outputs": [],
   "source": [
    "from keras.layers import Dense, Dropout, Activation, Flatten, GlobalAveragePooling2D\n",
    "from keras.layers import Conv2D, MaxPooling2D, ZeroPadding2D\n",
    "from keras.models import Model"
   ]
  },
  {
   "cell_type": "code",
   "execution_count": 42,
   "metadata": {
    "id": "AE-1hAYxf0Vr"
   },
   "outputs": [],
   "source": [
    "num_classes = 2\n",
    "FC_Head = lw(modelVGG , num_classes)\n",
    "model = Model(inputs = modelVGG.input,outputs = FC_Head)"
   ]
  },
  {
   "cell_type": "code",
   "execution_count": 43,
   "metadata": {
    "colab": {
     "base_uri": "https://localhost:8080/"
    },
    "id": "1cbP7apff3Fc",
    "outputId": "bfa791a3-fc02-4aa7-906b-7eff6b96b98a"
   },
   "outputs": [
    {
     "name": "stdout",
     "output_type": "stream",
     "text": [
      "Model: \"model\"\n",
      "_________________________________________________________________\n",
      " Layer (type)                Output Shape              Param #   \n",
      "=================================================================\n",
      " input_1 (InputLayer)        [(None, 224, 224, 3)]     0         \n",
      "                                                                 \n",
      " block1_conv1 (Conv2D)       (None, 224, 224, 64)      1792      \n",
      "                                                                 \n",
      " block1_conv2 (Conv2D)       (None, 224, 224, 64)      36928     \n",
      "                                                                 \n",
      " block1_pool (MaxPooling2D)  (None, 112, 112, 64)      0         \n",
      "                                                                 \n",
      " block2_conv1 (Conv2D)       (None, 112, 112, 128)     73856     \n",
      "                                                                 \n",
      " block2_conv2 (Conv2D)       (None, 112, 112, 128)     147584    \n",
      "                                                                 \n",
      " block2_pool (MaxPooling2D)  (None, 56, 56, 128)       0         \n",
      "                                                                 \n",
      " block3_conv1 (Conv2D)       (None, 56, 56, 256)       295168    \n",
      "                                                                 \n",
      " block3_conv2 (Conv2D)       (None, 56, 56, 256)       590080    \n",
      "                                                                 \n",
      " block3_conv3 (Conv2D)       (None, 56, 56, 256)       590080    \n",
      "                                                                 \n",
      " block3_pool (MaxPooling2D)  (None, 28, 28, 256)       0         \n",
      "                                                                 \n",
      " block4_conv1 (Conv2D)       (None, 28, 28, 512)       1180160   \n",
      "                                                                 \n",
      " block4_conv2 (Conv2D)       (None, 28, 28, 512)       2359808   \n",
      "                                                                 \n",
      " block4_conv3 (Conv2D)       (None, 28, 28, 512)       2359808   \n",
      "                                                                 \n",
      " block4_pool (MaxPooling2D)  (None, 14, 14, 512)       0         \n",
      "                                                                 \n",
      " block5_conv1 (Conv2D)       (None, 14, 14, 512)       2359808   \n",
      "                                                                 \n",
      " block5_conv2 (Conv2D)       (None, 14, 14, 512)       2359808   \n",
      "                                                                 \n",
      " block5_conv3 (Conv2D)       (None, 14, 14, 512)       2359808   \n",
      "                                                                 \n",
      " block5_pool (MaxPooling2D)  (None, 7, 7, 512)         0         \n",
      "                                                                 \n",
      " global_average_pooling2d (G  (None, 512)              0         \n",
      " lobalAveragePooling2D)                                          \n",
      "                                                                 \n",
      " dense (Dense)               (None, 1024)              525312    \n",
      "                                                                 \n",
      " dense_1 (Dense)             (None, 1024)              1049600   \n",
      "                                                                 \n",
      " dense_2 (Dense)             (None, 512)               524800    \n",
      "                                                                 \n",
      " dense_3 (Dense)             (None, 2)                 1026      \n",
      "                                                                 \n",
      "=================================================================\n",
      "Total params: 16,815,426\n",
      "Trainable params: 2,100,738\n",
      "Non-trainable params: 14,714,688\n",
      "_________________________________________________________________\n",
      "None\n"
     ]
    }
   ],
   "source": [
    "print(model.summary())"
   ]
  },
  {
   "cell_type": "code",
   "execution_count": 44,
   "metadata": {
    "colab": {
     "base_uri": "https://localhost:8080/"
    },
    "id": "_0bI0ZFXf7Za",
    "outputId": "2ae4970e-497b-4783-ee04-23daf33374ae"
   },
   "outputs": [
    {
     "name": "stdout",
     "output_type": "stream",
     "text": [
      "Epoch 1/15\n",
      "4/4 [==============================] - 65s 16s/step - loss: 10.5612 - accuracy: 0.5096 - val_loss: 2.4936 - val_accuracy: 0.6286\n",
      "Epoch 2/15\n",
      "4/4 [==============================] - 65s 17s/step - loss: 2.6661 - accuracy: 0.4904 - val_loss: 2.2559 - val_accuracy: 0.3714\n",
      "Epoch 3/15\n",
      "4/4 [==============================] - 63s 16s/step - loss: 1.0643 - accuracy: 0.6154 - val_loss: 0.6030 - val_accuracy: 0.6571\n",
      "Epoch 4/15\n",
      "4/4 [==============================] - 61s 16s/step - loss: 0.7173 - accuracy: 0.6346 - val_loss: 0.7570 - val_accuracy: 0.6000\n",
      "Epoch 5/15\n",
      "4/4 [==============================] - 63s 16s/step - loss: 0.5106 - accuracy: 0.7885 - val_loss: 0.6568 - val_accuracy: 0.6286\n",
      "Epoch 6/15\n",
      "4/4 [==============================] - 61s 16s/step - loss: 0.2527 - accuracy: 0.9231 - val_loss: 0.3462 - val_accuracy: 0.8571\n",
      "Epoch 7/15\n",
      "4/4 [==============================] - 61s 16s/step - loss: 0.2271 - accuracy: 0.9423 - val_loss: 0.4827 - val_accuracy: 0.6857\n",
      "Epoch 8/15\n",
      "4/4 [==============================] - 63s 16s/step - loss: 0.1907 - accuracy: 0.9135 - val_loss: 0.3902 - val_accuracy: 0.8286\n",
      "Epoch 9/15\n",
      "4/4 [==============================] - 61s 16s/step - loss: 0.0958 - accuracy: 0.9808 - val_loss: 0.3945 - val_accuracy: 0.8857\n",
      "Epoch 10/15\n",
      "4/4 [==============================] - 63s 16s/step - loss: 0.0950 - accuracy: 0.9712 - val_loss: 0.6547 - val_accuracy: 0.6857\n",
      "Epoch 11/15\n",
      "4/4 [==============================] - 61s 16s/step - loss: 0.0773 - accuracy: 0.9712 - val_loss: 0.5280 - val_accuracy: 0.8000\n",
      "Epoch 12/15\n",
      "4/4 [==============================] - 61s 16s/step - loss: 0.0189 - accuracy: 1.0000 - val_loss: 0.4464 - val_accuracy: 0.8286\n",
      "Epoch 13/15\n",
      "4/4 [==============================] - 63s 16s/step - loss: 0.0189 - accuracy: 1.0000 - val_loss: 0.5632 - val_accuracy: 0.8286\n",
      "Epoch 14/15\n",
      "4/4 [==============================] - 61s 16s/step - loss: 0.0062 - accuracy: 1.0000 - val_loss: 0.8242 - val_accuracy: 0.6857\n",
      "Epoch 15/15\n",
      "4/4 [==============================] - 61s 16s/step - loss: 0.0065 - accuracy: 1.0000 - val_loss: 0.7886 - val_accuracy: 0.7714\n"
     ]
    }
   ],
   "source": [
    "model.compile(optimizer = 'adam' , loss = 'categorical_crossentropy' , metrics = ['accuracy'])\n",
    "history = model.fit(x_train , y_train , epochs = 15 , validation_data = (x_test , y_test), verbose = 1 , initial_epoch = 0)"
   ]
  },
  {
   "cell_type": "code",
   "execution_count": 45,
   "metadata": {
    "id": "wstdd7jsjuEp"
   },
   "outputs": [],
   "source": [
    "%matplotlib inline\n",
    "acc = history.history['accuracy']\n",
    "val_acc = history.history['val_accuracy']\n",
    "loss = history.history['loss']\n",
    "val_loss = history.history['val_loss']\n",
    "\n",
    "epochs = range(len(acc))"
   ]
  },
  {
   "cell_type": "code",
   "execution_count": 46,
   "metadata": {
    "colab": {
     "base_uri": "https://localhost:8080/",
     "height": 298
    },
    "id": "43qQDcBnjz5y",
    "outputId": "8ab1b53b-f193-4ffc-9393-e5a72f98f968"
   },
   "outputs": [
    {
     "data": {
      "image/png": "[encoded data removed]",
      "text/plain": [
       "<Figure size 432x288 with 1 Axes>"
      ]
     },
     "metadata": {
      "needs_background": "light"
     },
     "output_type": "display_data"
    },
    {
     "data": {
      "text/plain": [
       "<Figure size 432x288 with 0 Axes>"
      ]
     },
     "metadata": {},
     "output_type": "display_data"
    }
   ],
   "source": [
    "plt.plot(epochs, acc, 'r', label='Training accuracy')\n",
    "plt.plot(epochs, val_acc, 'b', label='Validation accuracy')\n",
    "plt.title('Training and validation accuracy')\n",
    "plt.legend(loc=0)\n",
    "plt.figure()\n",
    "\n",
    "plt.show()"
   ]
  },
  {
   "cell_type": "code",
   "execution_count": 47,
   "metadata": {
    "id": "whdMehG6j2--"
   },
   "outputs": [],
   "source": [
    "def names(number):\n",
    "    if number==0:\n",
    "        return \"It's a TUMOR\"\n",
    "    else:\n",
    "        return \"It's NOT a Tumor\""
   ]
  },
  {
   "cell_type": "code",
   "execution_count": 50,
   "metadata": {
    "colab": {
     "base_uri": "https://localhost:8080/",
     "height": 256
    },
    "id": "C3k0bDVkj6WD",
    "outputId": "72b906e0-a22a-4862-8109-dd121c682f73"
   },
   "outputs": [
    {
     "name": "stdout",
     "output_type": "stream",
     "text": [
      "99.99191761016846% Confidence It's NOT a Tumor\n"
     ]
    },
    {
     "data": {
      "image/png": "[encoded data removed]",
      "text/plain": [
       "<Figure size 432x288 with 1 Axes>"
      ]
     },
     "metadata": {
      "needs_background": "light"
     },
     "output_type": "display_data"
    }
   ],
   "source": [
    "from matplotlib.pyplot import imshow\n",
    "img = Image.open(r\"/content/drive/MyDrive/DATA SET FOR MP/no/11 no.jpg\")\n",
    "x = np.array(img.resize((224,224)))\n",
    "x = x.reshape(1,224,224,3)\n",
    "res = model.predict_on_batch(x)\n",
    "classification = np.where(res == np.amax(res))[1][0]\n",
    "imshow(img)\n",
    "print(str(res[0][classification]*100) + '% Confidence ' + names(classification))"
   ]
  }
 ],
 "metadata": {
  "colab": {
   "provenance": []
  },
  "kernelspec": {
   "display_name": "Python 3 (ipykernel)",
   "language": "python",
   "name": "python3"
  },
  "language_info": {
   "codemirror_mode": {
    "name": "ipython",
    "version": 3
   },
   "file_extension": ".py",
   "mimetype": "text/x-python",
   "name": "python",
   "nbconvert_exporter": "python",
   "pygments_lexer": "ipython3",
   "version": "3.9.7"
  }
 },
 "nbformat": 4,
 "nbformat_minor": 1
}
