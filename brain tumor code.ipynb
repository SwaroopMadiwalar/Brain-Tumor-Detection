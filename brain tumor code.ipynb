{
  "nbformat": 4,
  "nbformat_minor": 0,
  "metadata": {
    "colab": {
      "provenance": []
    },
    "kernelspec": {
      "name": "python3",
      "display_name": "Python 3"
    },
    "language_info": {
      "name": "python"
    }
  },
  "cells": [
    {
      "cell_type": "code",
      "execution_count": null,
      "metadata": {
        "id": "NxJr-n6WIk6n"
      },
      "outputs": [],
      "source": [
        "import pandas as pd\n",
        "import numpy as np\n",
        "import matplotlib.pyplot as plt\n",
        "%matplotlib inline\n",
        "import seaborn as sns\n",
        "from sklearn.preprocessing import OneHotEncoder, LabelEncoder, QuantileTransformer\n",
        "from sklearn.compose import ColumnTransformer\n",
        "from sklearn.pipeline import Pipeline\n",
        "import tensorflow as tf\n",
        "from zipfile import ZipFile\n",
        "import os, glob\n",
        "import cv2\n",
        "from tqdm._tqdm_notebook import tqdm_notebook as tqdm\n",
        "from sklearn.model_selection import train_test_split\n",
        "from tensorflow.keras.preprocessing.image import ImageDataGenerator\n",
        "from keras.models import Sequential\n",
        "from keras.layers import Conv2D, MaxPooling2D, Dropout, Flatten, Dense, Activation, BatchNormalization\n",
        "from keras.callbacks import EarlyStopping, ReduceLROnPlateau"
      ]
    },
    {
      "cell_type": "code",
      "source": [
        "os.chdir('/kaggle/input/brain-mri-images-for-brain-tumor-detection/yes')\n",
        "X = []\n",
        "y = []\n",
        "for i in tqdm(os.listdir()):\n",
        "  img = cv2.imread(i)\n",
        "    img = cv2.resize(img, (224, 224))\n",
        "      X.append(img)\n",
        "        y.append((i[0:1]))\n",
        "          print(i[0:1])\n",
        "\n",
        "          os.chdir('/kaggle/input/brain-mri-images-for-brain-tumor-detection/no')\n",
        "          for i in tqdm(os.listdir()):\n",
        "            img = cv2.imread(i)\n",
        "              img = cv2.resize(img, (224, 224))\n",
        "                X.append(img)\n",
        "                  y.append((i[0:1]))\n",
        "                    print(i[0:1])\n",
        "\n",
        "                    for i in range(1,99):\n",
        "                      y.append('N')\n",
        "                      print(y)"
      ],
      "metadata": {
        "id": "pi7YrPhwIvSs"
      },
      "execution_count": null,
      "outputs": []
    },
    {
      "cell_type": "code",
      "source": [
        "plt.figure(figsize=(10,10))\n",
        "for i in range(25):\n",
        "  plt.subplot(5,5,i+1)\n",
        "    plt.xticks([])\n",
        "      plt.yticks([])\n",
        "        plt.grid(False)\n",
        "          plt.imshow(X[i], cmap=plt.cm.binary)"
      ],
      "metadata": {
        "id": "XmhlqV1NI0Hc"
      },
      "execution_count": null,
      "outputs": []
    },
    {
      "cell_type": "code",
      "source": [
        "plt.figure(figsize=(10,10))\n",
        "for i in range(4):\n",
        "  plt.subplot(1, 4,i+1)\n",
        "    plt.imshow(X[i], cmap= \"gray\")\n",
        "      plt.axis('off')\n",
        "        plt.show()"
      ],
      "metadata": {
        "id": "FwBw8XZuI26B"
      },
      "execution_count": null,
      "outputs": []
    },
    {
      "cell_type": "code",
      "source": [
        "print(\"X = \", len(X))\n",
        "y = y[:253]\n",
        "print(\"y = \", len(y))"
      ],
      "metadata": {
        "id": "FXN1xSVAI69H"
      },
      "execution_count": null,
      "outputs": []
    },
    {
      "cell_type": "code",
      "source": [
        "X_train, X_test, y_train, y_test = train_test_split(X,\n",
        "                                                    y,\n",
        "                                                                                                        test_size= 0.3,\n",
        "                                                                                                                                                            random_state= 42)\n",
        "                                                                                                                                                            print(\"Shape of an image in X_train = \", X_train[0].shape)\n",
        "                                                                                                                                                            print(\"Shape of an image in X_test = \", X_test[0].shape)"
      ],
      "metadata": {
        "id": "X5BEH12-JDRT"
      },
      "execution_count": null,
      "outputs": []
    },
    {
      "cell_type": "code",
      "source": [
        "le = LabelEncoder()\n",
        "y_train = le.fit_transform(y_train)\n",
        "y_test = le.fit_transform(y_test)\n",
        "\n",
        "num_classes = len(np.unique(y_train))\n",
        "y_train = tf.keras.utils.to_categorical(y_train, num_classes=num_classes)\n",
        "y_test = tf.keras.utils.to_categorical(y_test, num_classes=num_classes)\n",
        "\n",
        "y_train = np.array(y_train)\n",
        "y_test = np.array(y_test)\n",
        "X_train = np.array(X_train)\n",
        "X_test = np.array(X_test)"
      ],
      "metadata": {
        "id": "5pB6ZKBlJGZ7"
      },
      "execution_count": null,
      "outputs": []
    },
    {
      "cell_type": "code",
      "source": [
        "print(\"X_train shape: \", X_train.shape)\n",
        "print(\"X_test shape: \", X_test.shape)\n",
        "print(\"y_train shape: \", y_train.shape)\n",
        "print(\"y_test shape: \", y_test.shape)"
      ],
      "metadata": {
        "id": "WqG111pVJKJB"
      },
      "execution_count": null,
      "outputs": []
    },
    {
      "cell_type": "code",
      "source": [
        "from keras.applications import vgg16\n",
        "\n",
        "img_rows, img_cols = 224, 224\n",
        "\n",
        "vgg = vgg16.VGG16(weights = 'imagenet',\n",
        "                  include_top = False,\n",
        "                                    input_shape = (img_rows, img_cols, 3))\n",
        "\n",
        "                                    # Here we freeze the last 4 layers\n",
        "                                    # Layers are set to trainable as True by default\n",
        "                                    for layer in vgg.layers:\n",
        "                                      layer.trainable = False\n",
        "\n",
        "                                      # Printing out the layers\n",
        "                                      for (i, layer) in enumerate(vgg.layers):\n",
        "                                        print(str(i) + \" \"+ layer.__class__.__name__, layer.trainable)"
      ],
      "metadata": {
        "id": "gAheoN68JNqx"
      },
      "execution_count": null,
      "outputs": []
    },
    {
      "cell_type": "code",
      "source": [
        "from keras.layers import GlobalAveragePooling2D\n",
        "\n",
        "def lw(bottom_model,\n",
        "       num_classes):\n",
        "         top_model = bottom_model.output\n",
        "           top_model = GlobalAveragePooling2D()(top_model)\n",
        "             top_model = Dense(1024, activation = \"relu\")(top_model)\n",
        "               top_model = Dense(1024, activation = \"relu\")(top_model)\n",
        "                 top_model = Dense(512, activation = \"relu\")(top_model)\n",
        "                   top_model = Dense(num_classes, activation = \"softmax\")(top_model)\n",
        "                     return top_model"
      ],
      "metadata": {
        "id": "UljtTJe5JRWw"
      },
      "execution_count": null,
      "outputs": []
    },
    {
      "cell_type": "code",
      "source": [
        "from keras.models import Model\n",
        "\n",
        "\n",
        "num_classes = 2\n",
        "FC_Head = lw(vgg,\n",
        "             num_classes)\n",
        "\n",
        "             # This is the input shape of the data\n",
        "             model = Model(inputs = vgg.input,\n",
        "                           outputs = lw(vgg,\n",
        "                                                      num_classes))\n",
        "                                                      model.summary()"
      ],
      "metadata": {
        "id": "pyHLQAlLJX9-"
      },
      "execution_count": null,
      "outputs": []
    },
    {
      "cell_type": "code",
      "source": [
        "num_classes = y_train.shape[1]\n",
        "FC_Head = lw(vgg, num_classes)\n",
        "model = Model(inputs=vgg.input, outputs=FC_Head)\n",
        "model.summary()"
      ],
      "metadata": {
        "id": "aNXUDVv7JbKi"
      },
      "execution_count": null,
      "outputs": []
    },
    {
      "cell_type": "code",
      "source": [
        "model.compile(loss = \"categorical_crossentropy\",\n",
        "              optimizer = \"adam\",\n",
        "                            metrics = [\"accuracy\"])"
      ],
      "metadata": {
        "id": "vSVSdjt1Jd55"
      },
      "execution_count": null,
      "outputs": []
    },
    {
      "cell_type": "code",
      "source": [
        "history = model.fit(X_train, y_train,\n",
        "                    epochs=10,\n",
        "                                        validation_data=(X_test, y_test),\n",
        "                                                            verbose=1,\n",
        "                                                                                initial_epoch=0)"
      ],
      "metadata": {
        "id": "hIt8UU4QJep5"
      },
      "execution_count": null,
      "outputs": []
    },
    {
      "cell_type": "code",
      "source": [
        "acc = history.history['accuracy']\n",
        "val_acc = history.history['val_accuracy']\n",
        "loss = history.history['loss']\n",
        "val_loss = history.history['val_loss']\n",
        "\n",
        "epochs = range(len(acc))\n",
        "\n",
        "plt.plot(epochs, acc, 'r', label = 'Training Accuracy')\n",
        "plt.plot(epochs, val_acc, 'b', label = 'Validation Accuracy')\n",
        "plt.title('Training and Validation Accuracy')\n",
        "plt.legend(loc = 0)\n",
        "plt.grid(True)\n",
        "plt.show()"
      ],
      "metadata": {
        "id": "tmXE0fCBJjpx"
      },
      "execution_count": null,
      "outputs": []
    }
  ]
}